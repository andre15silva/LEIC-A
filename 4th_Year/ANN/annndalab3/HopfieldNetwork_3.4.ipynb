{
 "cells": [
  {
   "cell_type": "markdown",
   "metadata": {},
   "source": [
    "# 3 - Hopfield Network"
   ]
  },
  {
   "cell_type": "code",
   "execution_count": 1,
   "metadata": {},
   "outputs": [],
   "source": [
    "import numpy as np\n",
    "import matplotlib.pyplot as plt\n",
    "import itertools\n",
    "\n",
    "class HopfieldNetwork:\n",
    "    def __init__(self):\n",
    "        self.weights = 0\n",
    "        self.pattern = 0\n",
    "        self.targets = 0\n",
    "\n",
    "    def sign(self, data):\n",
    "        return np.where(data >= 0, 1, -1)\n",
    "\n",
    "    def transfer(self, data):\n",
    "        output = np.dot(self.weights, data)\n",
    "        return self.sign(output)\n",
    "\n",
    "    def outer_product(self, one, two):\n",
    "        self.weights = np.outer(one, two)\n",
    "        return np.outer(one, two)\n",
    "\n",
    "    def learn_weights(self, targets):\n",
    "        #self.pattern = data\n",
    "        self.targets = targets\n",
    "        #self.weights = np.dot(self.targets, np.transpose(self.targets))\n",
    "        self.weights = np.dot(targets.transpose(), targets)\n",
    "\n",
    "    def set_pattern(self, pattern):\n",
    "        self.pattern = pattern.copy()\n",
    "\n",
    "    def update_rule(self):\n",
    "        self.pattern = self.transfer(self.pattern)\n",
    "        #output = self.transfer(pattern)\n",
    "        return #output\n",
    "\n",
    "    def update_rule_async(self):\n",
    "        for i in range(self.pattern.shape[0]):\n",
    "            j = np.random.randint(0, self.pattern.shape[0])\n",
    "            self.pattern[j] = self.sign(np.dot(self.weights[j,:], self.pattern))\n",
    "\n",
    "    def is_fixed_point(self, x):\n",
    "        self.pattern = x\n",
    "        self.update_rule()\n",
    "        if np.all(x == self.pattern):\n",
    "            return True\n",
    "        else:\n",
    "            return False\n",
    "\n",
    "    def energy(self):\n",
    "        output = 0\n",
    "        for i in range(self.pattern.shape[0]):\n",
    "            for j in range(self.pattern.shape[0]):\n",
    "                output += self.weights[i,j] * self.pattern[i] * self.pattern[j]\n",
    "        return -output"
   ]
  },
  {
   "cell_type": "markdown",
   "metadata": {},
   "source": [
    "## 3.1 - Convergence and attractors"
   ]
  },
  {
   "cell_type": "markdown",
   "metadata": {},
   "source": [
    "### Apply the update rule repeatedly until you reach a stable fixed point. Did all the patterns converge towards stored patterns?"
   ]
  },
  {
   "cell_type": "code",
   "execution_count": 2,
   "metadata": {},
   "outputs": [],
   "source": [
    "# TODO"
   ]
  },
  {
   "cell_type": "markdown",
   "metadata": {},
   "source": [
    "### How many attractors are there in this network?"
   ]
  },
  {
   "cell_type": "code",
   "execution_count": 3,
   "metadata": {},
   "outputs": [],
   "source": [
    "# TODO"
   ]
  },
  {
   "cell_type": "markdown",
   "metadata": {},
   "source": [
    "### What happens when you make the starting pattern even more dissimilar to the stored ones (e.g. more than half is wrong)?"
   ]
  },
  {
   "cell_type": "code",
   "execution_count": 4,
   "metadata": {},
   "outputs": [],
   "source": [
    "# TODO"
   ]
  },
  {
   "cell_type": "markdown",
   "metadata": {},
   "source": [
    "## 3.2 - Sequential Update"
   ]
  },
  {
   "cell_type": "code",
   "execution_count": 5,
   "metadata": {},
   "outputs": [],
   "source": [
    "def plot_image(pattern, title):\n",
    "    plt.imshow(pattern.reshape(32,32))\n",
    "    plt.title(title)\n",
    "    plt.show()"
   ]
  },
  {
   "cell_type": "code",
   "execution_count": 6,
   "metadata": {},
   "outputs": [],
   "source": [
    "model = HopfieldNetwork()\n",
    "\n",
    "patterns = np.loadtxt(\"pict.dat\", delimiter=\",\", dtype=\"int\")\n",
    "patterns = patterns.reshape(11, 1024)\n",
    "\n",
    "targets = patterns[0:3,:]\n",
    "model.learn_weights(targets)"
   ]
  },
  {
   "cell_type": "markdown",
   "metadata": {},
   "source": [
    "### Check that the three patterns are stable."
   ]
  },
  {
   "cell_type": "code",
   "execution_count": 7,
   "metadata": {},
   "outputs": [
    {
     "name": "stdout",
     "output_type": "stream",
     "text": [
      "True\n",
      "True\n",
      "True\n"
     ]
    }
   ],
   "source": [
    "data = patterns[0:3,:]\n",
    "targets = patterns[0:3,:]\n",
    "\n",
    "model.learn_weights(targets)\n",
    "\n",
    "for x in data:\n",
    "    print(model.is_fixed_point(x))"
   ]
  },
  {
   "cell_type": "markdown",
   "metadata": {},
   "source": [
    "### Can the network complete a degraded pattern? Try the pattern _p10_, which is a degraged version of _p1_, or _p11_ which is a mixture of _p2_ and _p3_."
   ]
  },
  {
   "cell_type": "code",
   "execution_count": 8,
   "metadata": {},
   "outputs": [
    {
     "data": {
      "image/png": "[encoded data removed]",
      "text/plain": [
       "<Figure size 432x288 with 1 Axes>"
      ]
     },
     "metadata": {
      "needs_background": "light"
     },
     "output_type": "display_data"
    },
    {
     "data": {
      "image/png": "[encoded data removed]",
      "text/plain": [
       "<Figure size 432x288 with 1 Axes>"
      ]
     },
     "metadata": {
      "needs_background": "light"
     },
     "output_type": "display_data"
    },
    {
     "name": "stdout",
     "output_type": "stream",
     "text": [
      "True\n"
     ]
    },
    {
     "data": {
      "image/png": "[encoded data removed]",
      "text/plain": [
       "<Figure size 432x288 with 1 Axes>"
      ]
     },
     "metadata": {
      "needs_background": "light"
     },
     "output_type": "display_data"
    },
    {
     "data": {
      "image/png": "[encoded data removed]",
      "text/plain": [
       "<Figure size 432x288 with 1 Axes>"
      ]
     },
     "metadata": {
      "needs_background": "light"
     },
     "output_type": "display_data"
    },
    {
     "name": "stdout",
     "output_type": "stream",
     "text": [
      "False\n",
      "False\n"
     ]
    }
   ],
   "source": [
    "model.set_pattern(patterns[9])\n",
    "target = patterns[0]\n",
    "plot_image(model.pattern, \"p10\")\n",
    "for i in range(1000):\n",
    "    before = model.pattern.copy()\n",
    "    model.update_rule()\n",
    "    if (np.all(model.pattern == before)):\n",
    "        break\n",
    "plot_image(model.pattern, \"p10 after batch update rule (\" + str(i+1) + \" iterations)\")\n",
    "print(np.all(model.pattern == target))\n",
    "\n",
    "model.set_pattern(patterns[10])\n",
    "plot_image(model.pattern, \"p11\")\n",
    "for i in range(1000):\n",
    "    before = model.pattern.copy()\n",
    "    model.update_rule()\n",
    "    if (np.all(model.pattern == before)):\n",
    "        break\n",
    "plot_image(model.pattern, \"p11 after batch update rule (\" + str(i+1) + \" iterations)\")\n",
    "target = patterns[1]\n",
    "print(np.all(model.pattern == target))\n",
    "target = patterns[2]\n",
    "print(np.all(model.pattern == target))"
   ]
  },
  {
   "cell_type": "markdown",
   "metadata": {},
   "source": [
    "### Clearly convergence is practially instantaneous. What happens if we select units randomly? Please calculate their new state and then repeat the process in the spirit of the original sequential Hopfield dynamics. Please demonstrate the image every hundredth iteration or so."
   ]
  },
  {
   "cell_type": "code",
   "execution_count": 9,
   "metadata": {},
   "outputs": [
    {
     "data": {
      "image/png": "[encoded data removed]",
      "text/plain": [
       "<Figure size 432x288 with 1 Axes>"
      ]
     },
     "metadata": {
      "needs_background": "light"
     },
     "output_type": "display_data"
    },
    {
     "data": {
      "image/png": "[encoded data removed]",
      "text/plain": [
       "<Figure size 432x288 with 1 Axes>"
      ]
     },
     "metadata": {
      "needs_background": "light"
     },
     "output_type": "display_data"
    },
    {
     "name": "stdout",
     "output_type": "stream",
     "text": [
      "False\n"
     ]
    },
    {
     "data": {
      "image/png": "[encoded data removed]",
      "text/plain": [
       "<Figure size 432x288 with 1 Axes>"
      ]
     },
     "metadata": {
      "needs_background": "light"
     },
     "output_type": "display_data"
    },
    {
     "data": {
      "image/png": "[encoded data removed]",
      "text/plain": [
       "<Figure size 432x288 with 1 Axes>"
      ]
     },
     "metadata": {
      "needs_background": "light"
     },
     "output_type": "display_data"
    },
    {
     "name": "stdout",
     "output_type": "stream",
     "text": [
      "False\n",
      "False\n"
     ]
    }
   ],
   "source": [
    "model.set_pattern(patterns[9])\n",
    "target = patterns[0]\n",
    "plot_image(model.pattern, \"p10\")\n",
    "for i in range(10000):\n",
    "    before = model.pattern.copy()\n",
    "    model.update_rule_async()\n",
    "    if (np.all(model.pattern == before)):\n",
    "        break\n",
    "plot_image(model.pattern, \"p10 after batch update rule (\" + str(i+1) + \" iterations)\")\n",
    "print(np.all(model.pattern == target))\n",
    "\n",
    "model.set_pattern(patterns[10])\n",
    "target = patterns[2]\n",
    "plot_image(model.pattern, \"p11\")\n",
    "for i in range(10000):\n",
    "    before = model.pattern.copy()\n",
    "    model.update_rule_async()\n",
    "    if (np.all(model.pattern == before)):\n",
    "        break\n",
    "plot_image(model.pattern, \"p11 after batch update rule (\" + str(i+1) + \" iterations)\")\n",
    "target = patterns[1]\n",
    "print(np.all(model.pattern == target))\n",
    "target = patterns[2]\n",
    "print(np.all(model.pattern == target))"
   ]
  },
  {
   "cell_type": "markdown",
   "metadata": {},
   "source": [
    "## 3.3 - Energy"
   ]
  },
  {
   "cell_type": "markdown",
   "metadata": {},
   "source": [
    "### What is the energy at the different attractors?"
   ]
  },
  {
   "cell_type": "code",
   "execution_count": 10,
   "metadata": {},
   "outputs": [
    {
     "name": "stdout",
     "output_type": "stream",
     "text": [
      "Energy at attractor 1 is -1473936\n",
      "Energy at attractor 2 is -1398416\n",
      "Energy at attractor 3 is -1497344\n"
     ]
    }
   ],
   "source": [
    "for i in range(3):\n",
    "    model.set_pattern(patterns[i])\n",
    "    print(\"Energy at attractor \" + str(i+1) + \" is \" + str(model.energy()))"
   ]
  },
  {
   "cell_type": "markdown",
   "metadata": {},
   "source": [
    "### What is the energy at the points of the distorted patterns?"
   ]
  },
  {
   "cell_type": "code",
   "execution_count": 11,
   "metadata": {},
   "outputs": [
    {
     "name": "stdout",
     "output_type": "stream",
     "text": [
      "Energy at distorted pattern 4 is -737772\n",
      "Energy at distorted pattern 5 is -538512\n",
      "Energy at distorted pattern 6 is -699696\n",
      "Energy at distorted pattern 7 is -702188\n",
      "Energy at distorted pattern 8 is -175664\n",
      "Energy at distorted pattern 9 is -273932\n",
      "Energy at distorted pattern 10 is -425964\n",
      "Energy at distorted pattern 11 is -177664\n"
     ]
    }
   ],
   "source": [
    "for i in range(3,11):\n",
    "    model.set_pattern(patterns[i])\n",
    "    print(\"Energy at distorted pattern \" + str(i+1) + \" is \" + str(model.energy()))"
   ]
  },
  {
   "cell_type": "markdown",
   "metadata": {},
   "source": [
    "### Follow how the energy changes from iteration to iteration when you use the sequential update rule to approach an attractor."
   ]
  },
  {
   "cell_type": "code",
   "execution_count": 12,
   "metadata": {},
   "outputs": [
    {
     "name": "stdout",
     "output_type": "stream",
     "text": [
      "True\n"
     ]
    },
    {
     "data": {
      "image/png": "[encoded data removed]",
      "text/plain": [
       "<Figure size 432x288 with 1 Axes>"
      ]
     },
     "metadata": {
      "needs_background": "light"
     },
     "output_type": "display_data"
    }
   ],
   "source": [
    "model.set_pattern(patterns[9])\n",
    "target = patterns[0]\n",
    "energies = []\n",
    "for i in range(10000):\n",
    "    energies += [model.energy()]\n",
    "    before = model.pattern.copy()\n",
    "    model.update_rule_async()\n",
    "    if (np.all(model.pattern == before)):\n",
    "        energies += [model.energy()]\n",
    "        break\n",
    "        \n",
    "print(np.all(model.pattern == target))\n",
    "plt.plot(range(len(energies)), energies, label=\"Energy curve\")\n",
    "model.set_pattern(target)\n",
    "plt.plot(range(len(energies)), [model.energy() for i in range(len(energies))], label=\"Target (p1) energy\")\n",
    "plt.xlabel(\"Iteration step\")\n",
    "plt.ylabel(\"Energy\")\n",
    "plt.title(\"Energy curve\")\n",
    "plt.legend()\n",
    "plt.show()"
   ]
  },
  {
   "cell_type": "code",
   "execution_count": 13,
   "metadata": {},
   "outputs": [
    {
     "name": "stdout",
     "output_type": "stream",
     "text": [
      "True\n"
     ]
    },
    {
     "data": {
      "image/png": "[encoded data removed]",
      "text/plain": [
       "<Figure size 432x288 with 1 Axes>"
      ]
     },
     "metadata": {
      "needs_background": "light"
     },
     "output_type": "display_data"
    }
   ],
   "source": [
    "model.set_pattern(patterns[10])\n",
    "target = patterns[2]\n",
    "energies = []\n",
    "for i in range(1000):\n",
    "    energies += [model.energy()]\n",
    "    before = model.pattern.copy()\n",
    "    model.update_rule_async()\n",
    "    if (np.all(model.pattern == before)):\n",
    "        energies += [model.energy()]\n",
    "        break\n",
    "        \n",
    "print(np.all(model.pattern == target))\n",
    "plt.plot(range(len(energies)), energies, label=\"Energy curve\")\n",
    "model.set_pattern(target)\n",
    "plt.plot(range(len(energies)), [model.energy() for i in range(len(energies))], label=\"Target (p3) energy\")\n",
    "plt.xlabel(\"Iteration step\")\n",
    "plt.ylabel(\"Energy\")\n",
    "plt.title(\"Energy curve when training sequentially p11\")\n",
    "plt.legend()\n",
    "plt.show()"
   ]
  },
  {
   "cell_type": "markdown",
   "metadata": {},
   "source": [
    "### Generate a weight matrix by setting the weights to normally distributed random numbers, and try iterating an arbitrary starting state. What happens?"
   ]
  },
  {
   "cell_type": "code",
   "execution_count": 14,
   "metadata": {},
   "outputs": [
    {
     "data": {
      "image/png": "[encoded data removed]",
      "text/plain": [
       "<Figure size 432x288 with 1 Axes>"
      ]
     },
     "metadata": {
      "needs_background": "light"
     },
     "output_type": "display_data"
    }
   ],
   "source": [
    "model.weights = np.random.normal(0, 1, (1024, 1024))\n",
    "\n",
    "model.set_pattern(patterns[10])\n",
    "energies = []\n",
    "for i in range(50):\n",
    "    energies += [model.energy()]\n",
    "    before = model.pattern.copy()\n",
    "    model.update_rule_async()\n",
    "    if (np.all(model.pattern == before)):\n",
    "        energies += [model.energy()]\n",
    "        break\n",
    "\n",
    "plt.plot(range(len(energies)), energies, label=\"Energy curve\")\n",
    "plt.xlabel(\"Iteration step\")\n",
    "plt.ylabel(\"Energy\")\n",
    "plt.title(\"Energy curve when training sequentially w/ random weigth matrix\")\n",
    "plt.legend()\n",
    "plt.show()"
   ]
  },
  {
   "cell_type": "markdown",
   "metadata": {},
   "source": [
    "### Make the weight matrix symmetric (e.g. by setting w=0.5*(w+w')). What happens now? Why?"
   ]
  },
  {
   "cell_type": "code",
   "execution_count": 15,
   "metadata": {},
   "outputs": [
    {
     "data": {
      "image/png": "[encoded data removed]",
      "text/plain": [
       "<Figure size 432x288 with 1 Axes>"
      ]
     },
     "metadata": {
      "needs_background": "light"
     },
     "output_type": "display_data"
    }
   ],
   "source": [
    "model.weights = 0.5 * (model.weights + model.weights.T)\n",
    "\n",
    "model.set_pattern(patterns[10])\n",
    "energies = []\n",
    "for i in range(50):\n",
    "    energies += [model.energy()]\n",
    "    before = model.pattern.copy()\n",
    "    model.update_rule_async()\n",
    "    if (np.all(model.pattern == before)):\n",
    "        energies += [model.energy()]\n",
    "        break\n",
    "\n",
    "plt.plot(range(len(energies)), energies, label=\"Energy curve\")\n",
    "plt.xlabel(\"Iteration step\")\n",
    "plt.ylabel(\"Energy\")\n",
    "plt.title(\"Energy curve when training sequentially w/ random weigth matrix\")\n",
    "plt.legend()\n",
    "plt.show()"
   ]
  },
  {
   "cell_type": "code",
   "execution_count": 74,
   "metadata": {},
   "outputs": [
    {
     "name": "stdout",
     "output_type": "stream",
     "text": [
      "0.0\n",
      "0.01\n",
      "0.02\n",
      "0.03\n",
      "0.04\n",
      "0.05\n",
      "0.06\n",
      "0.07\n",
      "0.08\n",
      "0.09\n",
      "0.1\n",
      "0.11\n",
      "0.12\n",
      "0.13\n",
      "0.14\n",
      "0.15\n",
      "0.16\n",
      "0.17\n",
      "0.18\n",
      "0.19\n",
      "0.2\n",
      "0.21\n",
      "0.22\n",
      "0.23\n",
      "0.24\n",
      "0.25\n",
      "0.26\n",
      "0.27\n",
      "0.28\n",
      "0.29\n",
      "0.3\n",
      "0.31\n",
      "0.32\n",
      "0.33\n",
      "0.34\n",
      "0.35\n",
      "0.36\n",
      "0.37\n",
      "0.38\n",
      "0.39\n",
      "0.4\n",
      "0.41\n",
      "0.42\n",
      "0.43\n",
      "0.44\n",
      "0.45\n",
      "0.46\n",
      "0.47\n",
      "0.48\n",
      "0.49\n",
      "0.5\n",
      "0.51\n",
      "0.52\n",
      "0.53\n",
      "0.54\n",
      "0.55\n",
      "0.56\n",
      "0.57\n",
      "0.58\n",
      "0.59\n",
      "0.6\n",
      "0.61\n",
      "0.62\n",
      "0.63\n",
      "0.64\n",
      "0.65\n",
      "0.66\n",
      "0.67\n",
      "0.68\n",
      "0.69\n",
      "0.7\n",
      "0.71\n",
      "0.72\n",
      "0.73\n",
      "0.74\n",
      "0.75\n",
      "0.76\n",
      "0.77\n",
      "0.78\n",
      "0.79\n",
      "0.8\n",
      "0.81\n",
      "0.82\n",
      "0.83\n",
      "0.84\n",
      "0.85\n",
      "0.86\n",
      "0.87\n",
      "0.88\n",
      "0.89\n",
      "0.9\n",
      "0.91\n",
      "0.92\n",
      "0.93\n",
      "0.94\n",
      "0.95\n",
      "0.96\n",
      "0.97\n",
      "0.98\n",
      "0.99\n"
     ]
    },
    {
     "data": {
      "image/png": "[encoded data removed]",
      "text/plain": [
       "<Figure size 432x288 with 1 Axes>"
      ]
     },
     "metadata": {
      "needs_background": "light"
     },
     "output_type": "display_data"
    },
    {
     "data": {
      "image/png": "[encoded data removed]",
      "text/plain": [
       "<Figure size 432x288 with 1 Axes>"
      ]
     },
     "metadata": {
      "needs_background": "light"
     },
     "output_type": "display_data"
    },
    {
     "data": {
      "image/png": "[encoded data removed]",
      "text/plain": [
       "<Figure size 432x288 with 1 Axes>"
      ]
     },
     "metadata": {
      "needs_background": "light"
     },
     "output_type": "display_data"
    }
   ],
   "source": [
    "#Part 3.4 \n",
    "\n",
    "import random \n",
    "\n",
    "model = HopfieldNetwork()\n",
    "\n",
    "#noise = np.random.rand(1024)*noise\n",
    "\n",
    "#testarr =np.array([1,1,1,1,1,1,1,1,1,1])\n",
    "\n",
    "#Unclear definitions of noise??\n",
    "#Add noise to the patterns \n",
    "\n",
    "#model.set_pattern(patterns[0])\n",
    "\n",
    "targets = patterns[0:3,:]\n",
    "model.learn_weights(targets)\n",
    "itterations = []\n",
    "allnoise = []\n",
    "\n",
    "go = True\n",
    "\n",
    "for i in range(1000):\n",
    "    if go == False: \n",
    "        break \n",
    "    noiseL = i/1000\n",
    "    if i%10 == 0:\n",
    "        print(noiseL)\n",
    "    #print(noiseL)\n",
    "    noise = np.ones(1024)\n",
    "    for j in range(i):\n",
    "        indx = random.randint(0,1023)\n",
    "        noise[indx] = noise[indx]*-1\n",
    "    #print(np.multiply(testarr,noise))\n",
    "    noisep1 = np.multiply(patterns[0],noise)\n",
    "    noisep2 = np.multiply(patterns[1],noise)\n",
    "    noisep3 = np.multiply(patterns[2],noise)\n",
    "    \n",
    "    model.set_pattern(noisep1)\n",
    "    target = patterns[0]\n",
    "    for i in range(10000):\n",
    "        before = model.pattern.copy()\n",
    "        model.update_rule_async()\n",
    "        if (np.all(model.pattern == before)):\n",
    "            if (np.all(model.pattern != target)):\n",
    "                print(\"P1 Failed on noise \", noiseL)\n",
    "                go = False\n",
    "            break\n",
    "            \n",
    "    model.set_pattern(noisep2)\n",
    "    target = patterns[1]\n",
    "    for i in range(10000):\n",
    "        before = model.pattern.copy()\n",
    "        model.update_rule_async()\n",
    "        if (np.all(model.pattern == before)):\n",
    "            if (np.all(model.pattern != target)):\n",
    "                print(\"P2 Failed on noise \", noiseL)\n",
    "                go = False\n",
    "            break\n",
    "            \n",
    "    model.set_pattern(noisep3)\n",
    "    target = patterns[2]\n",
    "    for i in range(10000):\n",
    "        before = model.pattern.copy()\n",
    "        model.update_rule_async()\n",
    "        if (np.all(model.pattern == before)):\n",
    "            if (np.all(model.pattern != target)):\n",
    "                print(\"P3 Failed on noise \", noiseL)\n",
    "                go = False\n",
    "            break\n",
    "            \n",
    "plot_image(noisep1, \"noise p1\")\n",
    "plot_image(noisep2, \"noise p2\")\n",
    "plot_image(noisep3, \"noise p3\")\n",
    "            \n"
   ]
  },
  {
   "cell_type": "code",
   "execution_count": 80,
   "metadata": {},
   "outputs": [
    {
     "data": {
      "image/png": "[encoded data removed]",
      "text/plain": [
       "<Figure size 432x288 with 1 Axes>"
      ]
     },
     "metadata": {
      "needs_background": "light"
     },
     "output_type": "display_data"
    },
    {
     "data": {
      "image/png": "[encoded data removed]",
      "text/plain": [
       "<Figure size 432x288 with 1 Axes>"
      ]
     },
     "metadata": {
      "needs_background": "light"
     },
     "output_type": "display_data"
    },
    {
     "data": {
      "image/png": "[encoded data removed]",
      "text/plain": [
       "<Figure size 432x288 with 1 Axes>"
      ]
     },
     "metadata": {
      "needs_background": "light"
     },
     "output_type": "display_data"
    },
    {
     "name": "stdout",
     "output_type": "stream",
     "text": [
      "True 5\n"
     ]
    },
    {
     "data": {
      "image/png": "[encoded data removed]",
      "text/plain": [
       "<Figure size 432x288 with 1 Axes>"
      ]
     },
     "metadata": {
      "needs_background": "light"
     },
     "output_type": "display_data"
    },
    {
     "name": "stdout",
     "output_type": "stream",
     "text": [
      "True 6\n"
     ]
    },
    {
     "data": {
      "image/png": "[encoded data removed]",
      "text/plain": [
       "<Figure size 432x288 with 1 Axes>"
      ]
     },
     "metadata": {
      "needs_background": "light"
     },
     "output_type": "display_data"
    },
    {
     "name": "stdout",
     "output_type": "stream",
     "text": [
      "True 6\n"
     ]
    },
    {
     "data": {
      "image/png": "[encoded data removed]",
      "text/plain": [
       "<Figure size 432x288 with 1 Axes>"
      ]
     },
     "metadata": {
      "needs_background": "light"
     },
     "output_type": "display_data"
    }
   ],
   "source": [
    "#check with 100% noise again\n",
    "\n",
    "plot_image(noisep1, \"noise p1\")\n",
    "plot_image(noisep2, \"noise p2\")\n",
    "plot_image(noisep3, \"noise p3\")\n",
    "\n",
    "model.set_pattern(noisep1)\n",
    "target = patterns[0]\n",
    "for i in range(10000):\n",
    "    before = model.pattern.copy()\n",
    "    model.update_rule_async()\n",
    "    if (np.all(model.pattern == before)):\n",
    "        if (np.all(model.pattern != target)):\n",
    "            print(\"P1 Failed on noise \", noiseL)\n",
    "        break\n",
    "print(np.all(model.pattern == target), i)\n",
    "plot_image(model.pattern, \"p1\")\n",
    "\n",
    "model.set_pattern(noisep2)\n",
    "target = patterns[1]\n",
    "for i in range(10000):\n",
    "    before = model.pattern.copy()\n",
    "    model.update_rule_async()\n",
    "    if (np.all(model.pattern == before)):\n",
    "        if (np.all(model.pattern != target)):\n",
    "            print(\"P2 Failed on noise \", noiseL)\n",
    "        break\n",
    "print(np.all(model.pattern == target), i)\n",
    "plot_image(model.pattern, \"p2\")\n",
    "      \n",
    "model.set_pattern(noisep3)\n",
    "target = patterns[2]\n",
    "for i in range(10000):\n",
    "    before = model.pattern.copy()\n",
    "    model.update_rule_async()\n",
    "    if (np.all(model.pattern == before)):\n",
    "        if (np.all(model.pattern != target)):\n",
    "            print(\"P3 Failed on noise \", noiseL)\n",
    "        break\n",
    "print(np.all(model.pattern == target),i)\n",
    "plot_image(model.pattern, \"p3\")"
   ]
  },
  {
   "cell_type": "code",
   "execution_count": 104,
   "metadata": {},
   "outputs": [
    {
     "name": "stdout",
     "output_type": "stream",
     "text": [
      "0 ok\n",
      "P0Failed on noise \n",
      "1\n",
      "percentage of failed attempts 1.0\n",
      "0 ok\n",
      "P0Failed on noise \n",
      "1 ok\n",
      "1\n",
      "percentage of failed attempts 0.5\n",
      "0 ok\n",
      "P0Failed on noise \n",
      "1 ok\n",
      "2 ok\n",
      "1\n",
      "percentage of failed attempts 0.3333333333333333\n",
      "0 ok\n",
      "P0Failed on noise \n",
      "1 ok\n",
      "2 ok\n",
      "P2Failed on noise \n",
      "3 ok\n",
      "P3Failed on noise \n",
      "3\n",
      "percentage of failed attempts 0.75\n",
      "0 ok\n",
      "P0Failed on noise \n",
      "1 ok\n",
      "2 ok\n",
      "3 ok\n",
      "P3Failed on noise \n",
      "4 ok\n",
      "P4Failed on noise \n",
      "3\n",
      "percentage of failed attempts 0.6\n",
      "0 ok\n",
      "P0Failed on noise \n",
      "1 ok\n",
      "2 ok\n",
      "P2Failed on noise \n",
      "3 ok\n",
      "P3Failed on noise \n",
      "4 ok\n",
      "P4Failed on noise \n",
      "5 ok\n",
      "P5Failed on noise \n",
      "5\n",
      "percentage of failed attempts 0.8333333333333334\n",
      "0 ok\n",
      "P0Failed on noise \n",
      "1 ok\n",
      "P1Failed on noise \n",
      "2 ok\n",
      "P2Failed on noise \n",
      "3 ok\n",
      "P3Failed on noise \n",
      "4 ok\n",
      "P4Failed on noise \n",
      "5 ok\n",
      "P5Failed on noise \n",
      "6 ok\n",
      "P6Failed on noise \n",
      "7\n",
      "percentage of failed attempts 1.0\n",
      "0 ok\n",
      "P0Failed on noise \n",
      "1 ok\n",
      "P1Failed on noise \n",
      "2 ok\n",
      "P2Failed on noise \n",
      "3 ok\n",
      "P3Failed on noise \n",
      "4 ok\n",
      "P4Failed on noise \n",
      "5 ok\n",
      "P5Failed on noise \n",
      "6 ok\n",
      "P6Failed on noise \n",
      "7 ok\n",
      "P7Failed on noise \n",
      "8\n",
      "percentage of failed attempts 1.0\n",
      "0 ok\n",
      "1 ok\n",
      "2 ok\n",
      "3 ok\n",
      "P3Failed on noise \n",
      "4 ok\n",
      "P4Failed on noise \n",
      "5 ok\n",
      "P5Failed on noise \n",
      "6 ok\n",
      "P6Failed on noise \n",
      "7 ok\n",
      "P7Failed on noise \n",
      "8 ok\n",
      "P8Failed on noise \n",
      "6\n",
      "percentage of failed attempts 0.6666666666666666\n"
     ]
    },
    {
     "data": {
      "text/plain": [
       "[<matplotlib.lines.Line2D at 0x2256cc1c0d0>]"
      ]
     },
     "execution_count": 104,
     "metadata": {},
     "output_type": "execute_result"
    },
    {
     "data": {
      "image/png": "[encoded data removed]",
      "text/plain": [
       "<Figure size 432x288 with 1 Axes>"
      ]
     },
     "metadata": {
      "needs_background": "light"
     },
     "output_type": "display_data"
    }
   ],
   "source": [
    "#70% noise \n",
    "failed = []\n",
    "for n in range(1,10):\n",
    "    noise = np.ones(1024)\n",
    "    for j in range(600):\n",
    "        indx = random.randint(0,1023)\n",
    "        noise[indx] = noise[indx]*-1\n",
    "\n",
    "    testPatterns = []\n",
    "    numPattern = n\n",
    "    for i in range(numPattern):\n",
    "        testPatterns.append(np.multiply(patterns[i],noise))\n",
    "\n",
    "    fail = 0\n",
    "    targets = patterns[0:numPattern,:]\n",
    "    for i,pattern in enumerate(testPatterns): \n",
    "        model.set_pattern(pattern)\n",
    "        target = patterns[i]\n",
    "        #plot_image(pattern, i)\n",
    "        #plot_image(target, i)\n",
    "        for j in range(10000):\n",
    "            before = model.pattern.copy()\n",
    "            model.update_rule_async()\n",
    "            if (np.all(model.pattern == before)):\n",
    "                print(i,\"ok\")\n",
    "                #plot_image(model.pattern, \"final\"+str(i))\n",
    "                if (np.all(model.pattern == target) == False):\n",
    "                    print(\"P\"+str(i)+\"Failed on noise \")\n",
    "                    fail += 1 \n",
    "                break\n",
    "\n",
    "    print(fail)\n",
    "    print(\"percentage of failed attempts\", fail/numPattern)\n",
    "    failed.append(fail/numPattern)\n",
    "\n",
    "plt.plot(failed)\n",
    "    "
   ]
  },
  {
   "cell_type": "code",
   "execution_count": null,
   "metadata": {},
   "outputs": [],
   "source": []
  }
 ],
 "metadata": {
  "kernelspec": {
   "display_name": "Python 3",
   "language": "python",
   "name": "python3"
  },
  "language_info": {
   "codemirror_mode": {
    "name": "ipython",
    "version": 3
   },
   "file_extension": ".py",
   "mimetype": "text/x-python",
   "name": "python",
   "nbconvert_exporter": "python",
   "pygments_lexer": "ipython3",
   "version": "3.8.3"
  }
 },
 "nbformat": 4,
 "nbformat_minor": 5
}
