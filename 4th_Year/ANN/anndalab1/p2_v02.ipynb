{
 "cells": [
  {
   "cell_type": "code",
   "execution_count": 1,
   "metadata": {},
   "outputs": [
    {
     "name": "stdout",
     "output_type": "stream",
     "text": [
      "(32, 84)\n"
     ]
    }
   ],
   "source": [
    "#animals\n",
    "import random \n",
    "import pandas as pd \n",
    "import numpy as np \n",
    "import matplotlib.pyplot as plt\n",
    "\n",
    "animals = open('animals.dat', 'r')\n",
    "data = animals.readlines()\n",
    "data = data[0].strip('\\n')\n",
    "\n",
    "r = 32\n",
    "c = 84\n",
    "\n",
    "data = data.split(',')\n",
    "\n",
    "matrix = []\n",
    "for i in range(r):\n",
    "    matrix.append(data[c*i:c*(i+1)])\n",
    "    \n",
    "matrix = np.array(matrix)\n",
    "matrix = matrix.astype(float)\n",
    "\n",
    "hidden = 100\n",
    "    \n",
    "weight = np.random.rand(100,84)*0.2\n",
    "\n",
    "print(matrix.shape)"
   ]
  },
  {
   "cell_type": "code",
   "execution_count": 2,
   "metadata": {},
   "outputs": [],
   "source": [
    "def diff(arr1, arr2):\n",
    "    if arr1.shape == arr2.shape:\n",
    "        s = np.absolute(np.subtract(arr1, arr2))\n",
    "        d = np.linalg.norm(s)\n",
    "        return d\n",
    "    else: \n",
    "        print(\"error in shape\", arr1.shape, arr2.shape)"
   ]
  },
  {
   "cell_type": "code",
   "execution_count": 3,
   "metadata": {},
   "outputs": [
    {
     "name": "stdout",
     "output_type": "stream",
     "text": [
      "3.780481289427837\n",
      "(100, 84)\n"
     ]
    }
   ],
   "source": [
    "epoch = 20\n",
    "step = 0.2 \n",
    "\n",
    "print(diff(matrix[1], weight[1]))\n",
    "\n",
    "for i in range(epoch):\n",
    "    d = np.zeros(100)\n",
    "    for n in matrix: \n",
    "        for w in range(100): \n",
    "            d[w] = diff(n, weight[w])\n",
    "        w = np.argmin(d)\n",
    "        size = 50-(int(i*2.5)) # 50 down to 0 or 1 \n",
    "        maxn = min(w + size, 100)\n",
    "        minn = max(w - size,0)\n",
    "        #print(size, maxn,minn)\n",
    "        \n",
    "        for w in range(minn,maxn):\n",
    "            weight[w] = weight[w] + step*(n - weight[w])\n",
    "        #print(weight.shape)\n",
    "            \n",
    "print(weight.shape)\n",
    "        "
   ]
  },
  {
   "cell_type": "code",
   "execution_count": 4,
   "metadata": {
    "scrolled": true
   },
   "outputs": [],
   "source": [
    "animalnames = open('animalnames.txt', 'r')\n",
    "data = animalnames.readlines()\n",
    "\n",
    "animal = []\n",
    "for a in data: \n",
    "    a = a.strip(\"\\n\")\n",
    "    a = a.strip(\"\\t\")\n",
    "    a = a.strip(\"''\")\n",
    "    animal.append(a)"
   ]
  },
  {
   "cell_type": "code",
   "execution_count": 5,
   "metadata": {},
   "outputs": [
    {
     "name": "stdout",
     "output_type": "stream",
     "text": [
      "[92, 61, 76, 52, 0, 3, 98, 66, 41, 59, 0, 21, 79, 34, 97, 0, 93, 5, 56, 87, 66, 7, 29, 21, 25, 98, 83, 76, 38, 71, 13, 47]\n",
      "[0, 0, 0, 3, 5, 7, 13, 21, 21, 25, 29, 34, 38, 41, 47, 52, 56, 59, 61, 66, 66, 71, 76, 76, 79, 83, 87, 92, 93, 97, 98, 98]\n",
      "32\n",
      "beetle\n",
      "dragonfly\n",
      "grasshopper\n",
      "butterfly\n",
      "housefly\n",
      "moskito\n",
      "spider\n",
      "duck\n",
      "pelican\n",
      "penguin\n",
      "ostrich\n",
      "frog\n",
      "seaturtle\n",
      "crocodile\n",
      "walrus\n",
      "bear\n",
      "hyena\n",
      "dog\n",
      "ape\n",
      "cat\n",
      "lion\n",
      "skunk\n",
      "bat\n",
      "rat\n",
      "elephant\n",
      "rabbit\n",
      "kangaroo\n",
      "antelop\n",
      "horse\n",
      "giraffe\n",
      "camel\n",
      "pig\n"
     ]
    }
   ],
   "source": [
    "pos = []\n",
    "\n",
    "d = np.zeros(100)\n",
    "#pos.append(1)\n",
    "for i in range(32):\n",
    "    for w in range(100): \n",
    "        d[w] = diff(matrix[i], weight[w])\n",
    "    w = np.argmin(d)\n",
    "    pos.append(w)\n",
    "\n",
    "possort = pos.copy()\n",
    "\n",
    "possort.sort()\n",
    "\n",
    "print(pos)\n",
    "print(possort)\n",
    "\n",
    "done = []\n",
    "toprint = []\n",
    "for i,p in enumerate(possort):\n",
    "    index = pos.index(p)\n",
    "    done.append(index)\n",
    "    #print(index, done)\n",
    "    toprint.append(animal[pos.index(p)])\n",
    "    #print(animal[pos.index(p)-1])\n",
    "    pos[index] = 9999\n",
    "    \n",
    "print(len(toprint))\n",
    "\n",
    "for i in toprint: \n",
    "    print(i)\n"
   ]
  },
  {
   "cell_type": "code",
   "execution_count": 12,
   "metadata": {},
   "outputs": [
    {
     "data": {
      "text/plain": [
       "[<matplotlib.lines.Line2D at 0x198bd473e20>]"
      ]
     },
     "execution_count": 12,
     "metadata": {},
     "output_type": "execute_result"
    },
    {
     "data": {
      "image/png": "[encoded data removed]",
      "text/plain": [
       "<Figure size 432x288 with 1 Axes>"
      ]
     },
     "metadata": {
      "needs_background": "light"
     },
     "output_type": "display_data"
    }
   ],
   "source": [
    "#4.2 Cyklist tour \n",
    "file = open('cities.dat', 'r')\n",
    "data = file.readlines()\n",
    "\n",
    "city = []\n",
    "data = data[4:]\n",
    "for a in data: \n",
    "    a = a.strip(\"\\n\")\n",
    "    a = a.strip(\"\\t\")\n",
    "    a = a.strip(\"''\")\n",
    "    a = a.strip(\";\")\n",
    "    a = a.strip(\" \")\n",
    "    \n",
    "    city.append(a)\n",
    "\n",
    "c = 2\n",
    "r = 10 \n",
    "nodes = 20\n",
    "\n",
    "matrix = []\n",
    "for ci in city:\n",
    "    ci = ci.split(\",\")\n",
    "    matrix.append(ci)\n",
    "    \n",
    "matrix = np.array(matrix)\n",
    "matrix = matrix.astype(float)\n",
    "    \n",
    "weight = np.random.rand(nodes,c)*0.2\n",
    "\n",
    "epoch = 80\n",
    "step = 0.2 \n",
    "\n",
    "for i in range(epoch):\n",
    "    d = np.zeros(nodes)\n",
    "    for n in matrix: \n",
    "        for w in range(nodes): \n",
    "            d[w] = diff(n, weight[w])\n",
    "        w = np.argmin(d)\n",
    "        \n",
    "        if epoch - i in range(int(epoch/2),epoch+1):\n",
    "            size = 2    \n",
    "        elif epoch - i in range(int(epoch/4),int(epoch/2)):\n",
    "            size = 1\n",
    "        else: \n",
    "            size = 0\n",
    "        # 50 down to 0 or 1 \n",
    "        maxn = w + size\n",
    "        minn = w - size\n",
    "        \n",
    "        if maxn >nodes: \n",
    "            maxn = maxn-nodes\n",
    "        if minn <0: \n",
    "            minn = minn+nodes\n",
    "        #print(size, maxn,minn)\n",
    "        #print(minn, maxn)\n",
    "        for w in range(minn,maxn):\n",
    "            weight[w] = weight[w] + step*(n - weight[w])\n",
    "        #print(weight.shape)\n",
    "            \n",
    "pos = []\n",
    "d = np.zeros(100)\n",
    "pos.append(1)\n",
    "for i,ci in enumerate(city):\n",
    "    for w in range(nodes): \n",
    "        d[w] = diff(matrix[i], weight[w])\n",
    "    w = np.argmin(d)\n",
    "    pos.append(w)\n",
    "    \n",
    "possort = pos.copy()\n",
    "\n",
    "possort.sort()\n",
    "\n",
    "done = []\n",
    "toprint = []\n",
    "for i,p in enumerate(possort):\n",
    "    index = pos.index(p)\n",
    "    done.append(index)\n",
    "    #print(index, done)\n",
    "    toprint.append(city[pos.index(p)-1])\n",
    "    #print(animal[pos.index(p)-1])\n",
    "    pos[index] = 9999\n",
    "\n",
    "x = []\n",
    "y = []\n",
    "\n",
    "#print(toprint)\n",
    "for point in toprint:\n",
    "    point = point.strip(\"'\")\n",
    "    p = point.split(\", \") \n",
    "    x.append(float(p[0]))\n",
    "    y.append(float(p[1]))\n",
    "x.append(x[0])\n",
    "y.append(y[0])\n",
    "\n",
    "plt.scatter(x,y)\n",
    "plt.plot(x,y)\n",
    "    \n"
   ]
  },
  {
   "cell_type": "code",
   "execution_count": 13,
   "metadata": {},
   "outputs": [
    {
     "name": "stdout",
     "output_type": "stream",
     "text": [
      "[[0.19302425 0.11897654]\n",
      " [0.15009557 0.08543104]\n",
      " [0.17070369 0.22881688]\n",
      " [0.17069973 0.2292917 ]\n",
      " [0.17069786 0.22929723]\n",
      " [0.17049184 0.22898357]\n",
      " [0.3988622  0.44274746]\n",
      " [0.39999013 0.44389044]\n",
      " [0.39999575 0.44389571]\n",
      " [0.24918804 0.72405458]\n",
      " [0.22930415 0.76099131]\n",
      " [0.45674565 0.90356378]\n",
      " [0.58381953 0.88101899]\n",
      " [0.78832221 0.66588595]\n",
      " [0.75471613 0.57342436]\n",
      " [0.7914     0.42365453]\n",
      " [0.80334626 0.34979999]\n",
      " [0.68268272 0.26404813]\n",
      " [0.63691058 0.25997417]\n",
      " [0.62085858 0.26357948]]\n"
     ]
    },
    {
     "data": {
      "text/plain": [
       "[<matplotlib.lines.Line2D at 0x198bd4f2d90>]"
      ]
     },
     "execution_count": 13,
     "metadata": {},
     "output_type": "execute_result"
    },
    {
     "data": {
      "image/png": "[encoded data removed]",
      "text/plain": [
       "<Figure size 432x288 with 1 Axes>"
      ]
     },
     "metadata": {
      "needs_background": "light"
     },
     "output_type": "display_data"
    }
   ],
   "source": [
    "print(weight)\n",
    "\n",
    "x = []\n",
    "y = []\n",
    "\n",
    "for p in weight:\n",
    "    x.append(float(p[0]))\n",
    "    y.append(float(p[1]))\n",
    "    \n",
    "x.append(x[0])\n",
    "y.append(y[0])\n",
    "\n",
    "plt.scatter(x,y)\n",
    "plt.plot(x,y)"
   ]
  },
  {
   "cell_type": "code",
   "execution_count": 38,
   "metadata": {},
   "outputs": [
    {
     "name": "stdout",
     "output_type": "stream",
     "text": [
      "349\n",
      "['Skårman Carl-Erik', 'Romanus Gabriel', 'Odenberg Mikael', 'Järrel Henrik S', 'Lindgren Sylvia', 'Ask Beatrice', 'Hoffmann Ulla', 'Nordlander Inger', 'Ruwaida Yvonne', 'Könberg Bo', 'Attefall Stefan', 'Agenberg Tomas', 'Papadopoulos Nikos', 'Lilliehöök Anna', 'Ohly Lars', 'Höij Helena', 'Larsson Kalle', 'Narti Ana Maria', 'Nordquist Kaj', 'Rojas Mauricio', 'Hassan Maria', 'Adelsohn Liljeroth Lena', 'Vestlund Börje', 'Carlsson i Tyresö Gunilla', 'Frans Joe', 'Sabuni Nyamko', 'Palm Veronica', 'Ohlsson Birgitta', 'Fridolin Gustav', 'Johansson Anita', 'Leijonborg Lars', 'Johansson Jan Emanuel', 'Schyman Gudrun', 'Lejon Britta', 'Odell Mats', 'Lennmarker Göran', 'Davidson Inger', 'Hamilton Björn', 'Reinfeldt Fredrik', 'Pilsäter Karin', 'Rask Ola', 'Lindberg Niclas', 'Arvidsson Eva', 'Osman Sherifay Mariam', 'Moberg Carina', 'Axelsson Christina', 'de Pourbaix-Lundin Marietta', 'Svensson Ingvar', 'Elmsäter-Svärd Catharina', 'Beiming Cinnika', 'Waidelich Tommy', 'Westman Henrik', 'Bargholtz Helena', 'Ångström Lars', 'Einarsson Mats', 'Kerimo Yilmaz', 'Enström Karin', 'Hamilton Carl B', 'Andrén Gunnar', 'Özürküt Sermin', 'Lundgren Kerstin', 'Lundström Nina', 'Björling Ewa', 'Engström Hillevi', 'Valtersson Mikaela', 'Andreasson Martin', 'Franzén Mia', 'Damberg Mikael', 'Hedquist Lennart', 'Burman Ingrid', 'Stenmark Rigmor', 'Tingsgård Tone', 'Bill Per', 'Tesfazion Rezene', 'Berglind Mats', 'Oscarsson Mikael', 'Domeij Åsa', 'Gille Agneta', 'Wikström Cecilia', 'Ullenhag Erik', 'Westerberg Per', 'Furustrand Reynoldh', 'Hagberg Michael', 'Bjurling Laila', 'Markström Elisebeht', 'von der Esch Björn', 'Olovsson Fredrik', 'Ericson Gunvor G', 'Linna Elina', 'Hagberg Liselott', 'Tiefensee Roger', 'Hagfeldt Stefan', 'Karlsson Sonia', 'Danestig Britt-Marie', 'Öhman Conny', 'Sköldestig Berndt', 'Hillar Rosenqvist Helena', 'Andersson Yvonne', 'Danielsson Staffan', 'Axén Gunnar', 'Ludvigsson Anne', 'Brus Sven', 'Lindgren Anna', 'Darell Linnéa', 'Gustafsson Billy', 'Malmström Louise', 'Löfstrand Johan', 'Granbom Karin', 'Andersson Magdalena', 'Svensson Alf', 'Hägglund Göran', 'Nilsson Martin', 'Sandgren Margareta', 'Åström Alice', 'Hägg Carina', 'Andersson Margareta', 'Wahlström Göte', 'Larsson Maria', 'Petersson Helene', 'Johansson Bengt-Anders', 'Krantz Tobias', 'Högmark Anders G', 'Erlandsson Eskil', 'Eneroth Tomas', 'Wegendal Lars', 'Adolfsson Elgestam Carina', 'Sandahl Olle', 'Nordmark Gunnar', 'Hansson Agne', 'Pålsson Chatrine', 'Örnfjäder Krister', 'Aurelius Nils Fredrik', 'Beijer Lennart', 'Ringman Agneta', 'Fagerström Ann-Marie', 'Juholt Håkan', 'Thorén Sverker', 'Virgin Lilian', 'Grönhagen Carina', 'Skoog Christer', 'Björkman Jan', 'Johnsson Jeppe', 'Gylling Johnny', 'Berg Heli', 'Andersson Kerstin', 'Larsson Hillevi', 'Astudillo Luciano', 'Granlund Marie', 'Lindkvist Britt-Marie', 'Lundström Sten', 'Jakobsson Leif', 'Roslund Carl-Axel', 'Widman Allan', 'Billström Tobias', 'Nilsson Annika', 'Lantz Kenneth', 'Husmark Pehrsson Cristina', 'Karlsson Anders', 'Härstedt Kent', 'Stafilidis Tasso', 'Hagberg Christin', 'Acketoft Tina', 'Strandberg Torkild', 'Danielsson Peter', 'Jönsson Anita', 'Olander Ronny', 'Persson Catherine', 'Bernhardsson Bo', 'Nilsson Ulf', 'Svensson Smith Karin', 'Jarl Beck Inger', 'Lindblad Lars', 'Thalén Finné Ewa', 'Althin Peter', 'Pålsson Anne-Marie', 'Wahlgren Marie', 'Holm Ulf', 'Linander Johan', 'Ekendahl Maud', 'Skånberg Tuve', 'Wester Ulla', 'Sjöstrand Sven-Erik', 'Bengtsson Anders', 'Nylander Christer', 'Engle Kerstin', 'Ericson Lars-Ivar', 'Pålsson Margareta', 'Persson i Simrishamn Göran', 'Adelsbo Christer', 'Eriksson Alf', 'Westerlund Panke Majléne', 'Sahlberg Pär Axel', 'Hoff Hans', 'Kollmats Lennart', 'Karlsson Kjell-Erik', 'Gustafsson Lars', 'Ertsborn Jan', 'Brodén Anne Marie', 'Andersson Jan', 'von Sydow Henrik', 'Carlström Marianne', 'Bager Erling', 'Olsson Rolf', 'Brandin Claes-Göran', 'Flyborg Eva', 'Wittgren-Ahl Siw', 'Lindblad Göran', 'Sidén Anita', 'Jóhannesson Berit', 'Landgren Per', 'Magnusson Cecilia', 'Roxbergh Claes', 'Enochson Annelie', 'Lindén Rolf', 'Johansson Lars', 'Carlsson i Hisings Backa Gunilla', 'Wigström Cecilia', 'Darvik Axel', 'Nilsson Lennart', 'Bäckström Lars', 'René Inger', 'Olsson Kent', 'Berglund Nilsson Mona', 'Runegrund Rosita', 'Torstensson Åsa', 'Larsson Jan-Olof', 'Aronson Marita', 'Jönsson Mona', 'Tysklind Lars', 'Bråkenhielm Catharina', 'Forslund Kenneth G', 'Bohlin Olsson Britt', 'Feltzing Barbro', 'Söderqvist Nils-Erik', 'Nyström Elizabeth', 'Vänerlöv Ingemar', 'Nenes Christina', 'Dinamarca Rossana', 'Brodén Anita', 'Jonsson Peter', 'Qarlsson Annika', 'Kjörnsberg Arne', 'Ekholm Berndt', 'Fransson Sonja', 'Ekström Anne-Marie', 'Lindgren Else-Marie', 'Sjösten Ulf', 'Västerteg Claes', 'Nordström Kjell', 'Carlsson Birgitta', 'Gustafsson Holger', 'Rosengren Per', 'Green Monica', 'Ahlin Urban', 'Ohlsson Carina', 'Winbäck Christer', 'Widegren Cecilia', 'Lander Jarl', 'Johansson Ann-Kristine', 'Engström Marie', 'Pettersson Marina', 'Gerdin Viviann', 'Patriksson Runar', 'Kihlström Dan', 'Rådhström Jan-Evert', 'Björnlod Leif', 'Ternemar Tommy', 'Högman Berit', 'Lundberg Inger', 'Holmqvist Nils-Göran', 'Frisk Helena', 'Tolgfors Sten', 'Pedersen Peter', 'Johansson Mikael', 'Pehrson Johan', 'Larsen Sofia', 'Axelsson Lennart', 'Persson Sven Gunnar', 'Ernkrans Matilda', 'Magnusson Göran', 'Israelsson Margareta', 'Heinemann Kerstin', 'Högström Tomas', 'Nilsson Pia', 'Ytterberg Mariann', 'Vallius Paavo', 'Johansson Jörgen', 'Thorborg Karin', 'Lindström Torsten', 'Granström Per Erik', 'Hietala Nordlund Barbro', 'Gunnarsson Rolf', 'Fremling Lennart', 'Johansson Kenneth', 'Lindholm Jan', 'Ulvskog Marita', 'Kvarnström Kurt', 'Wiklund Anders', 'Lindgren Ulrik', 'Särnblad Anneli', 'Bohlin Sinikka', 'Norinder Patrik', 'Högström Kenth', 'Hellberg Owe', 'Bergström Sven', 'Pärssinen Raimo', 'Svensson Per-Olof', 'Marcelind Ragnwi', 'Hedström Lotta', 'Lindestam Åsa', 'Backman Hans', 'Stenberg Hans', 'Lundberg Agneta', 'Eberstein Susanne', 'Kristiansson Karlstedt Kerstin', 'Norlander Göran', 'Sellén Birgitta', 'Wahlén Gunilla', 'Lindén Lars', 'Hellquist Solveig', 'Kjellberg Bertil', 'Sandberg Gunnar', 'Berglund Rune', 'Nordén Marie', 'Sundell Ola', 'Sköld Jansson Camilla', 'Larsson Håkan', 'Lundberg Carin', 'Rådström Britta', 'Lilja Lars', 'Gustavsson Lennart', 'Ångström Yvonne', 'Abramsson Karl Gustav', 'Tjernberg Gunilla', 'Löfgren Ulla', 'Saarinen Ingegerd', 'Wibe Sören', 'Olofsson Maud', 'Klockare Lennart', 'Zakrisson Kristina', 'Ahlqvist Birgitta', 'Holma Siv', 'Eriksson Peter', 'Wälivaara Erling', 'Åström Karin', 'Gidblom Birgitta', 'Öberg Maria', 'Hammarbergh Krister', 'Grönlund Krantz Anna']\n"
     ]
    }
   ],
   "source": [
    "#data mp\n",
    "file = open('mpdistrict.dat', 'r')\n",
    "data = file.readlines()\n",
    "\n",
    "\n",
    "dist = []\n",
    "for r in data: \n",
    "    dist.append(int(r))\n",
    "\n",
    "    \n",
    "file = open('mpparty.dat', 'r')\n",
    "data = file.readlines()\n",
    "\n",
    "#data = data[]\n",
    "\n",
    "party = []\n",
    "for r in data: \n",
    "    party.append(int(r))\n",
    "\n",
    "file = open('mpsex.dat', 'r')\n",
    "data = file.readlines()\n",
    "\n",
    "#data = data[]\n",
    "\n",
    "sex = []\n",
    "for r in data: \n",
    "    sex.append(int(r))\n",
    "    \n",
    "file = open('mpnames.txt', 'r')\n",
    "data = file.readlines()\n",
    "\n",
    "names = []\n",
    "for r in data:\n",
    "    r = r.strip(\"\\n\")\n",
    "    names.append(r)\n",
    "\n",
    "print(len(names))\n",
    "print(names)"
   ]
  },
  {
   "cell_type": "code",
   "execution_count": 25,
   "metadata": {},
   "outputs": [
    {
     "name": "stdout",
     "output_type": "stream",
     "text": [
      "(349, 31)\n",
      "done\n"
     ]
    }
   ],
   "source": [
    "file = open('votes.dat', 'r')\n",
    "data = file.readlines()\n",
    "\n",
    "r = 349\n",
    "c = 31\n",
    "\n",
    "nodes = 100\n",
    "data = data[0].split(',')\n",
    "\n",
    "matrix = []\n",
    "for i in range(r):\n",
    "    matrix.append(data[c*i:c*(i+1)])\n",
    "    \n",
    "matrix = np.array(matrix)\n",
    "matrix = matrix.astype(float)\n",
    "\n",
    "print(matrix.shape)\n",
    "    \n",
    "weight = np.random.rand(nodes,31)*0.2\n",
    "#print(weight.shape)\n",
    "\n",
    "epoch = 80\n",
    "step = 0.3\n",
    "\n",
    "for i in range(epoch):\n",
    "    d = np.zeros(nodes)\n",
    "    for n in matrix: \n",
    "        for w in range(nodes): \n",
    "            d[w] = diff(n, weight[w])\n",
    "        w = np.argmin(d)\n",
    "        \n",
    "        \"\"\"\"\n",
    "        if epoch - i in range(int(epoch/2),epoch+1):\n",
    "            size = 2    \n",
    "        elif epoch - i in range(int(epoch/4),int(epoch/2)):\n",
    "            size = 1\n",
    "        else: \n",
    "            size = 0\n",
    "        \"\"\"\n",
    "        # 50 down to 0 or 1 \n",
    "        #print(50-(int(i*(50/(epoch)))))\n",
    "        size = 25-(int(i*(25/(epoch))))\n",
    "        #print(size)\n",
    "        \n",
    "        maxn = min(w + size, nodes)\n",
    "        minn = max(w - size,0)\n",
    "        #print(size, maxn,minn)\n",
    "        #print(minn, maxn)\n",
    "        for w in range(minn,maxn):\n",
    "            weight[w] = weight[w] + step*(n - weight[w])\n",
    "        #print(weight.shape)\n",
    "\n",
    "print(\"done\")\n",
    "#print(weight)"
   ]
  },
  {
   "cell_type": "code",
   "execution_count": 26,
   "metadata": {},
   "outputs": [
    {
     "name": "stdout",
     "output_type": "stream",
     "text": [
      "349\n",
      "349\n",
      "349\n",
      "349\n"
     ]
    }
   ],
   "source": [
    "print(len(dist))\n",
    "print(len(party))\n",
    "print(len(sex))\n",
    "print(len(names))"
   ]
  },
  {
   "cell_type": "code",
   "execution_count": 55,
   "metadata": {},
   "outputs": [
    {
     "name": "stdout",
     "output_type": "stream",
     "text": [
      "[1, 2, 1, 1, 3, 1, 4, 3, 5, 2, 6, 3, 3, 1, 4, 6, 4, 2, 3, 2, 3, 1, 3, 1, 3, 2, 3, 2, 5, 3, 2, 3, 0, 3, 6, 1, 6, 1, 1, 2, 3, 3, 3, 3, 3, 3, 1, 6, 1, 3, 3, 1, 2, 5, 4, 3, 1, 2, 2, 4, 7, 2, 1, 1, 5, 2, 2, 3, 1, 4, 7, 3, 1, 3, 3, 6, 5, 3, 2, 2, 1, 3, 3, 3, 3, 6, 3, 5, 4, 2, 7, 1, 3, 4, 3, 3, 5, 6, 7, 1, 3, 6, 1, 2, 3, 3, 3, 2, 1, 6, 6, 3, 3, 4, 3, 7, 3, 6, 3, 1, 2, 1, 7, 3, 3, 3, 6, 2, 7, 6, 3, 1, 4, 3, 3, 3, 2, 3, 3, 3, 3, 1, 6, 2, 3, 3, 3, 3, 3, 4, 3, 1, 2, 1, 3, 6, 1, 3, 3, 4, 3, 2, 2, 1, 3, 3, 3, 3, 2, 4, 3, 1, 1, 6, 1, 2, 5, 7, 1, 6, 3, 4, 3, 2, 3, 7, 1, 3, 3, 3, 3, 3, 3, 2, 4, 6, 2, 1, 7, 1, 3, 2, 4, 3, 2, 3, 1, 1, 4, 6, 1, 5, 6, 3, 3, 3, 2, 2, 3, 4, 1, 1, 3, 6, 7, 3, 2, 5, 2, 3, 3, 3, 5, 3, 1, 6, 3, 4, 2, 3, 7, 3, 3, 3, 2, 6, 1, 7, 3, 7, 6, 4, 3, 3, 3, 2, 1, 3, 3, 4, 3, 7, 2, 6, 1, 5, 3, 3, 3, 3, 3, 1, 4, 5, 2, 7, 3, 6, 3, 3, 3, 2, 1, 3, 3, 3, 7, 4, 6, 3, 3, 1, 2, 7, 5, 3, 3, 4, 6, 3, 3, 1, 3, 4, 7, 3, 3, 6, 5, 3, 2, 3, 3, 3, 3, 3, 7, 4, 6, 2, 1, 3, 3, 3, 1, 4, 7, 3, 3, 3, 4, 2, 3, 6, 1, 5, 3, 7, 3, 3, 3, 4, 5, 6, 3, 3, 3, 1, 2]\n",
      "[1, 2, 1, 1, 3, 1, 4, 3, 5, 2, 6, 3, 3, 1, 4, 6, 4, 2, 3, 2, 3, 1, 3, 1, 3, 2, 3, 2, 5, 3, 2, 3, 0, 3, 6, 1, 6, 1, 1, 2, 3, 3, 3, 3, 3, 3, 1, 6, 1, 3, 3, 1, 2, 5, 4, 3, 1, 2, 2, 4, 7, 2, 1, 1, 5, 2, 2, 3, 1, 4, 7, 3, 1, 3, 3, 6, 5, 3, 2, 2, 1, 3, 3, 3, 3, 6, 3, 5, 4, 2, 7, 1, 3, 4, 3, 3, 5, 6, 7, 1, 3, 6, 1, 2, 3, 3, 3, 2, 1, 6, 6, 3, 3, 4, 3, 7, 3, 6, 3, 1, 2, 1, 7, 3, 3, 3, 6, 2, 7, 6, 3, 1, 4, 3, 3, 3, 2, 3, 3, 3, 3, 1, 6, 2, 3, 3, 3, 3, 3, 4, 3, 1, 2, 1, 3, 6, 1, 3, 3, 4, 3, 2, 2, 1, 3, 3, 3, 3, 2, 4, 3, 1, 1, 6, 1, 2, 5, 7, 1, 6, 3, 4, 3, 2, 3, 7, 1, 3, 3, 3, 3, 3, 3, 2, 4, 6, 2, 1, 7, 1, 3, 2, 4, 3, 2, 3, 1, 1, 4, 6, 1, 5, 6, 3, 3, 3, 2, 2, 3, 4, 1, 1, 3, 6, 7, 3, 2, 5, 2, 3, 3, 3, 5, 3, 1, 6, 3, 4, 2, 3, 7, 3, 3, 3, 2, 6, 1, 7, 3, 7, 6, 4, 3, 3, 3, 2, 1, 3, 3, 4, 3, 7, 2, 6, 1, 5, 3, 3, 3, 3, 3, 1, 4, 5, 2, 7, 3, 6, 3, 3, 3, 2, 1, 3, 3, 3, 7, 4, 6, 3, 3, 1, 2, 7, 5, 3, 3, 4, 6, 3, 3, 1, 3, 4, 7, 3, 3, 6, 5, 3, 2, 3, 3, 3, 3, 3, 7, 4, 6, 2, 1, 3, 3, 3, 1, 4, 7, 3, 3, 3, 4, 2, 3, 6, 1, 5, 3, 7, 3, 3, 3, 4, 5, 6, 3, 3, 3, 1, 2]\n"
     ]
    },
    {
     "data": {
      "image/png": "[encoded data removed]",
      "text/plain": [
       "<Figure size 432x288 with 1 Axes>"
      ]
     },
     "metadata": {
      "needs_background": "light"
     },
     "output_type": "display_data"
    }
   ],
   "source": [
    "pos = []\n",
    "\n",
    "d = np.zeros(nodes)\n",
    "#pos.append(1)\n",
    "for i,ci in enumerate(matrix):\n",
    "    for w in range(nodes): \n",
    "        d[w] = diff(matrix[i], weight[w])\n",
    "    w = np.argmin(d)\n",
    "    pos.append(w)\n",
    "    \n",
    "possort = pos.copy()\n",
    "pos1 = pos.copy()\n",
    "\n",
    "possort.sort()\n",
    "\n",
    "colors = [\"blue\", \"aqua\", \"red\", \"crimson\", \"green\", \"yellow\", \"yellowgreen\"]\n",
    "l = [\"m\", \"fp\", \"s\", \"v\", \"mp\",\"kd\",\"c\"]\n",
    "\n",
    "#party\n",
    "toprintParty = []\n",
    "\n",
    "print(party)\n",
    "\n",
    "for i,p in enumerate(pos):\n",
    "    index = pos.index(p)\n",
    "    #print(index, done)\n",
    "    toprintParty.append(party[pos.index(p)])\n",
    "    #print(animal[pos.index(p)-1])\n",
    "    pos[index] = 9999\n",
    "    \n",
    "\n",
    "print(toprintParty)\n",
    "x = []\n",
    "y = []\n",
    "c = []\n",
    "label = []\n",
    "for i,item in enumerate(pos1): \n",
    "    x.append(item//10 + np.random.normal(0, 0.2))\n",
    "    y.append(item%10 + np.random.normal(0, 0.2))\n",
    "    #print(i,toprintParty[i])\n",
    "    c.append(colors[toprintParty[i]-1])\n",
    "    label.append(l[toprintParty[i]-1])\n",
    "    \n",
    "fig, ax = plt.subplots()\n",
    "scatter_x = np.array(x)\n",
    "scatter_y = np.array(y)\n",
    "group = np.array(label)\n",
    "for g in np.unique(group):\n",
    "    i = np.where(group == g)\n",
    "    \n",
    "    ax.scatter(scatter_x[i], scatter_y[i],color = colors[l.index(g)], label=g)\n",
    "ax.legend()\n",
    "plt.title(\"voting party\")\n",
    "plt.show()"
   ]
  },
  {
   "cell_type": "code",
   "execution_count": 67,
   "metadata": {},
   "outputs": [
    {
     "data": {
      "image/png": "[encoded data removed]",
      "text/plain": [
       "<Figure size 432x288 with 1 Axes>"
      ]
     },
     "metadata": {
      "needs_background": "light"
     },
     "output_type": "display_data"
    }
   ],
   "source": [
    "#sex\n",
    "pos = []\n",
    "d = np.zeros(nodes)\n",
    "for i,ci in enumerate(matrix):\n",
    "    for w in range(nodes): \n",
    "        d[w] = diff(matrix[i], weight[w])\n",
    "    w = np.argmin(d)\n",
    "    pos.append(w)\n",
    "    \n",
    "possort = pos.copy()\n",
    "pos1 = pos.copy()\n",
    "\n",
    "possort.sort()\n",
    "\n",
    "colors = [\"blue\",\"red\"]\n",
    "l = [\"male\", \"female\"]\n",
    "\n",
    "done = []\n",
    "toprintSex = []\n",
    "for i,p in enumerate(pos):\n",
    "    index = pos.index(p)\n",
    "    done.append(index)\n",
    "    #print(index, done)\n",
    "    toprintSex.append(sex[pos.index(p)])\n",
    "    #print(animal[pos.index(p)-1])\n",
    "    pos[index] = 9999\n",
    "    if i >= 348:\n",
    "        break\n",
    "        \n",
    "x = []\n",
    "y = []\n",
    "c = []\n",
    "label = []\n",
    "for i,item in enumerate(pos1): \n",
    "    x.append(item//10 + np.random.normal(0, 0.2))\n",
    "    y.append(item%10 + np.random.normal(0, 0.2))\n",
    "    c.append(colors[toprintSex[i]-1])\n",
    "    label.append(l[toprintSex[i]-1])\n",
    "\n",
    "fig, ax = plt.subplots()\n",
    "scatter_x = np.array(x)\n",
    "scatter_y = np.array(y)\n",
    "group = np.array(label)\n",
    "for g in np.unique(group):\n",
    "    i = np.where(group == g)\n",
    "    \n",
    "    ax.scatter(scatter_x[i], scatter_y[i],color = colors[l.index(g)], label=g)\n",
    "ax.legend()\n",
    "plt.title(\"Voting Sex\")\n",
    "plt.show()\n"
   ]
  },
  {
   "cell_type": "code",
   "execution_count": 66,
   "metadata": {},
   "outputs": [
    {
     "data": {
      "image/png": "[encoded data removed]",
      "text/plain": [
       "<Figure size 432x288 with 1 Axes>"
      ]
     },
     "metadata": {
      "needs_background": "light"
     },
     "output_type": "display_data"
    }
   ],
   "source": [
    "#dist\n",
    "pos = []\n",
    "d = np.zeros(nodes)\n",
    "for i,ci in enumerate(matrix):\n",
    "    for w in range(nodes): \n",
    "        d[w] = diff(matrix[i], weight[w])\n",
    "    w = np.argmin(d)\n",
    "    pos.append(w)\n",
    "    \n",
    "possort = pos.copy()\n",
    "pos1 = pos.copy()\n",
    "\n",
    "possort.sort()\n",
    "done = []\n",
    "toprintDist = []\n",
    "for i,p in enumerate(pos):\n",
    "    index = pos.index(p)\n",
    "    done.append(index)\n",
    "    #print(index, done)\n",
    "    toprintDist.append(dist[pos1.index(p)])\n",
    "    #print(animal[pos.index(p)-1])\n",
    "    pos[index] = 9999\n",
    "    if i >= 349:\n",
    "        break\n",
    "    \n",
    "x = []\n",
    "y = []\n",
    "c = []\n",
    "for i,item in enumerate(pos1): \n",
    "    x.append(item//10 + np.random.normal(0, 0.1))\n",
    "    y.append(item%10 + np.random.normal(0, 0.1))\n",
    "    value = toprintDist[i]\n",
    "    tupple = (value/30,value/30,value/30)\n",
    "    c.append(tupple)\n",
    "    \n",
    "plt.scatter(x,y,color = c)\n",
    "plt.title(\"Voting district\")\n",
    "plt.show()\n",
    "     \n",
    "#name?"
   ]
  },
  {
   "cell_type": "code",
   "execution_count": 9,
   "metadata": {},
   "outputs": [
    {
     "name": "stdout",
     "output_type": "stream",
     "text": [
      "[0, 15, 3, 0, 87, 3, 56, 87, 73, 15, 31, 87, 87, 0, 59, 35, 59, 15, 87, 39, 87, 0, 87, 42, 87, 8, 87, 7, 73, 47, 7, 51, 59, 87, 37, 0, 37, 0, 44, 39, 87, 87, 87, 87, 79, 87, 3, 35, 0, 87, 99, 3, 11, 73, 53, 87, 0, 15, 15, 59, 22, 15, 44, 42, 73, 15, 12, 87, 0, 56, 20, 87, 0, 87, 87, 28, 51, 87, 7, 12, 0, 80, 87, 87, 91, 35, 87, 73, 63, 11, 20, 3, 87, 60, 87, 87, 73, 37, 20, 4, 87, 35, 0, 15, 87, 87, 77, 12, 3, 28, 41, 87, 87, 53, 87, 20, 99, 37, 87, 3, 15, 0, 22, 47, 87, 51, 35, 12, 22, 31, 77, 0, 56, 87, 87, 87, 15, 87, 87, 87, 87, 42, 35, 15, 87, 87, 77, 87, 87, 59, 87, 0, 15, 3, 51, 35, 0, 87, 87, 60, 87, 39, 12, 3, 99, 99, 44, 87, 15, 46, 87, 0, 0, 35, 0, 15, 67, 22, 0, 27, 87, 63, 87, 15, 87, 20, 0, 80, 87, 87, 87, 87, 87, 15, 59, 35, 39, 0, 22, 3, 87, 39, 59, 87, 15, 87, 0, 0, 60, 31, 0, 49, 35, 87, 87, 87, 15, 7, 87, 56, 3, 0, 47, 31, 22, 87, 12, 44, 39, 87, 87, 87, 68, 87, 0, 44, 87, 56, 39, 87, 20, 80, 90, 44, 7, 35, 0, 46, 87, 20, 35, 59, 87, 87, 87, 15, 0, 87, 87, 64, 87, 20, 11, 28, 0, 68, 87, 53, 87, 87, 77, 3, 64, 73, 15, 20, 87, 31, 87, 87, 83, 15, 0, 87, 99, 87, 18, 63, 31, 80, 44, 0, 7, 23, 68, 49, 87, 60, 26, 87, 87, 3, 77, 59, 18, 80, 87, 31, 70, 87, 15, 87, 87, 87, 99, 87, 20, 60, 35, 15, 0, 87, 87, 91, 0, 64, 20, 87, 51, 77, 60, 7, 83, 35, 3, 44, 95, 44, 87, 87, 87, 59, 73, 35, 87, 87, 87, 0, 15]\n"
     ]
    },
    {
     "data": {
      "text/plain": [
       "<matplotlib.collections.PathCollection at 0x2c94e62e250>"
      ]
     },
     "execution_count": 9,
     "metadata": {},
     "output_type": "execute_result"
    },
    {
     "data": {
      "image/png": "[encoded data removed]",
      "text/plain": [
       "<Figure size 432x288 with 1 Axes>"
      ]
     },
     "metadata": {
      "needs_background": "light"
     },
     "output_type": "display_data"
    }
   ],
   "source": [
    "print(pos)\n",
    "\n",
    "\n",
    "x = []\n",
    "y = []\n",
    "for item in pos: \n",
    "    x.append(item//10 + np.random.normal(0, 0.20))\n",
    "    y.append(item%10 + np.random.normal(0, 0.20))\n",
    "    \n",
    "plt.scatter(x,y)"
   ]
  },
  {
   "cell_type": "code",
   "execution_count": null,
   "metadata": {},
   "outputs": [],
   "source": []
  },
  {
   "cell_type": "code",
   "execution_count": null,
   "metadata": {},
   "outputs": [],
   "source": []
  }
 ],
 "metadata": {
  "kernelspec": {
   "display_name": "Python 3",
   "language": "python",
   "name": "python3"
  },
  "language_info": {
   "codemirror_mode": {
    "name": "ipython",
    "version": 3
   },
   "file_extension": ".py",
   "mimetype": "text/x-python",
   "name": "python",
   "nbconvert_exporter": "python",
   "pygments_lexer": "ipython3",
   "version": "3.8.3"
  }
 },
 "nbformat": 4,
 "nbformat_minor": 4
}
