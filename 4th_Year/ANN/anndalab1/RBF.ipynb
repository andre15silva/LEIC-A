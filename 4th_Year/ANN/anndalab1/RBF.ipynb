{
 "cells": [
  {
   "cell_type": "code",
   "execution_count": null,
   "metadata": {},
   "outputs": [],
   "source": [
    "def absolute_error(data, targets):\n",
    "    return np.mean(abs(data-targets))"
   ]
  },
  {
   "cell_type": "code",
   "execution_count": 28,
   "metadata": {},
   "outputs": [],
   "source": [
    "import numpy as np\n",
    "import math\n",
    "\n",
    "\n",
    "class RBF_network:\n",
    "\n",
    "    def __init__(self, input_dims, output_dims, num_hidden_nodes=5, learning_rate=0.001, min_val = 0, max_val=2*math.pi):\n",
    "        self.hidden_nodes = num_hidden_nodes\n",
    "        self.w = np.random.normal(0, 1, (num_hidden_nodes, input_dims))\n",
    "        \n",
    "        #position RBFs\n",
    "        self.centers = np.linspace(min_val, max_val, self.hidden_nodes)\n",
    "        self.sigma = 1/np.sqrt(2*self.hidden_nodes)\n",
    "        self.lr = learning_rate\n",
    "\n",
    "    def train_leastsquares(self, data, targets, epochs=100):\n",
    "        old_w = np.full((self.w.shape), 100)\n",
    "        phi = np.zeros((len(data), self.hidden_nodes))\n",
    "        for epoch in range(epochs):\n",
    "            # Forward pass\n",
    "            for i in range(len(self.centers)):\n",
    "                phi[:, i] = np.exp((data - self.centers[i]) / 2 * self.sigma ** 2)\n",
    "            print(phi.shape)\n",
    "            output = np.dot(phi, self.w)\n",
    "\n",
    "            # Backward pass with least squares\n",
    "            self.w = np.dot(np.linalg.pinv(phi), output) ##is this correct?\n",
    "            diff = abs(old_w - self.w)\n",
    "            if np.max(diff) < 10e-3:\n",
    "                return output\n",
    "            \n",
    "            old_w = self.w\n",
    "        return output\n",
    "\n",
    "    def train_delta_rule_online(self, data, targets, epochs=100):\n",
    "        phi = np.zeros((len(self.centers)))\n",
    "        old_w = 100\n",
    "        for epoch in range(epochs):\n",
    "            for idx, x in enumerate(data):\n",
    "            # forward\n",
    "                self.phi = np.exp((x - self.centers) / (2 * self.sigma ** 2))\n",
    "                print(phi.shape)\n",
    "                output = np.dot(phi, self.w)\n",
    "\n",
    "                # backward\n",
    "                error = output - targets[idx]\n",
    "                self.w -= self.lr * error * phi\n",
    "                diff = abs(old_w - self.w)\n",
    "                if np.max(diff) < 10e-3:\n",
    "                    return output\n",
    "                       \n",
    "                old_w = self.w\n",
    "        return output\n",
    "    \n",
    "    def train_delta_rule_batch(self, data, targets, epochs=100, competitive=False):\n",
    "        old_w = np.full((self.w.shape), 100)\n",
    "        phi = np.zeros((len(data), self.hidden_nodes))\n",
    "        for epoch in range(epochs):\n",
    "            # Forward pass\n",
    "            for i in range(len(self.centers)):\n",
    "                phi[:, i] = np.exp((data - self.centers[i]) / 2 * self.sigma ** 2)\n",
    "            print(phi.shape)\n",
    "            output = np.dot(phi, self.w)\n",
    "            \n",
    "            #backward pass with delta rule:\n",
    "            error = output - targets\n",
    "            self.w -= self.lr * error * phi\n",
    "            if competitive:\n",
    "                x = np.random.choice(data)\n",
    "                distance = x-self.centers\n",
    "                winner = np.argmin(distance)\n",
    "                self.centers[winner] += self.lr*distance\n",
    "            diff = abs(old_w - self.w)\n",
    "                if np.max(diff) < 10e-3:\n",
    "                    return output\n",
    "                       \n",
    "                old_w = self.w\n",
    "        return output\n",
    "          \n",
    "\n",
    "    def predict_leastsquares(self, data):\n",
    "        phi = np.zeros((len(data), self.hidden_nodes))\n",
    "        for i in range(len(self.centers)):\n",
    "            phi[:, i] = np.exp((data - self.centers[i]) / 2 * self.sigma ** 2)\n",
    "            print(phi.shape)\n",
    "            output = np.dot(phi, self.w)\n",
    "        return output\n",
    "    \n",
    "    def predict_delta_rule_online(self, data):\n",
    "        phi = np.zeros((len(self.centers), 1))\n",
    "        for idx, x in enumerate(data):\n",
    "            # forward\n",
    "                self.phi = np.exp((x - self.centers) / (2 * self.sigma ** 2))\n",
    "                print(phi.shape)\n",
    "                output = np.dot(phi, self.w)\n",
    "        return output\n",
    "    \n",
    "    def predict_delta_rule_batch(self, data):\n",
    "        phi = np.zeros((len(data), self.hidden_nodes))\n",
    "        for i in range(len(self.centers)):\n",
    "            phi[:, i] = np.exp((data - self.centers[i]) / 2 * self.sigma ** 2)\n",
    "            print(phi.shape)\n",
    "            output = np.dot(phi, self.w)\n",
    "        return output\n",
    "        \n"
   ]
  },
  {
   "cell_type": "code",
   "execution_count": null,
   "metadata": {},
   "outputs": [],
   "source": [
    "def test_delta(trainData, trainTargets, testData, testTargets):\n",
    "    train_errors = []\n",
    "    test_errors = []\n",
    "    mean_errors = []\n",
    "    errors_std = []\n",
    "    \n",
    "    for i in range(1,50):\n",
    "        for j in range(50):\n",
    "            rbf = RBF_network(1,1,num_hidden_nodes = i)\n",
    "            train_out = rbf.train_delta_rule_batch(trainData, trainTargets)\n",
    "            test_out = rbf.predict_delta_rule_batch(testData)\n",
    "            test_errors += [absolute_error(testData, testTargets)]\n",
    "        mean_errors += [np.mean(test_errors)]\n",
    "        errors_std += [np.std(test_errors)]\n",
    "    return mean_errors, errors_std\n"
   ]
  },
  {
   "cell_type": "code",
   "execution_count": null,
   "metadata": {},
   "outputs": [],
   "source": [
    "def test_least_squares(trainData, trainTargets, testData, testTargets):\n",
    "    train_errors = []\n",
    "    test_errors = []\n",
    "    mean_errors = []\n",
    "    errors_std = []\n",
    "    \n",
    "    for i in range(1,50):\n",
    "        for j in range(50):\n",
    "            rbf = RBF_network(1,1,num_hidden_nodes = i)\n",
    "            train_out = rbf.train_leastsquares(trainData, trainTargets)\n",
    "            test_out = rbf.predict_leastsquares(testData)\n",
    "            test_errors += [absolute_error(testData, testTargets)]\n",
    "        mean_errors += [np.mean(test_errors)]\n",
    "        errors_std += [np.std(test_errors)]\n",
    "    return mean_errors, errors_std"
   ]
  },
  {
   "cell_type": "markdown",
   "metadata": {},
   "source": [
    "approximating sin function least squares batch method:"
   ]
  },
  {
   "cell_type": "code",
   "execution_count": 19,
   "metadata": {},
   "outputs": [
    {
     "name": "stdout",
     "output_type": "stream",
     "text": [
      "(63, 5)\n",
      "(63, 5)\n"
     ]
    }
   ],
   "source": [
    "\n",
    "\n",
    "patterns = np.arange(0, 2*math.pi, 0.1)\n",
    "targets_sin = np.array([math.sin(x) for x in patterns])\n",
    "test_patterns = np.arange(0.05, 2*math.pi, 0.1)\n",
    "test_targets = np.array([math.sin(x) for x in test_patterns])\n",
    "\n",
    "rbf = RBF_network(1,1,5)\n",
    "out = rbf.train_leastsquares(patterns, targets_sin)\n",
    "\n",
    "mean_errors, errors_std = test_least_squares(patterns, targets_square, test_patterns, test_targets)"
   ]
  },
  {
   "cell_type": "markdown",
   "metadata": {},
   "source": [
    "approximating square function least squares method:"
   ]
  },
  {
   "cell_type": "code",
   "execution_count": null,
   "metadata": {},
   "outputs": [],
   "source": [
    "patterns = np.arange(0, 2*math.pi, 0.1)\n",
    "targets_square = np.array([1 if(math.sin(x) >= 0) else -1 for x in patterns])\n",
    "test_patterns = np.arange(0.05, 2*math.pi, 0.1)\n",
    "test_targets = np.array([1 if(math.sin(x) >= 0) else -1 for x in test_patterns])\n",
    "\n",
    "mean_errors, errors_std = test_least_squares(patterns, targets_square, test_patterns, test_targets)"
   ]
  },
  {
   "cell_type": "markdown",
   "metadata": {},
   "source": [
    "approximating sin function delta batch method"
   ]
  },
  {
   "cell_type": "code",
   "execution_count": null,
   "metadata": {},
   "outputs": [],
   "source": [
    "patterns = np.arange(0, 2*math.pi, 0.1)\n",
    "targets_sin = np.array([math.sin(x) for x in patterns])\n",
    "test_patterns = np.arange(0.05, 2*math.pi, 0.1)\n",
    "test_targets = np.array([math.sin(x) for x in test_patterns])\n",
    "\n",
    "mean_errors, errors_std = test_delta(patterns, targets_sin, test_patterns, test_targets)"
   ]
  },
  {
   "cell_type": "markdown",
   "metadata": {},
   "source": [
    "approximating square function, delta batch method:"
   ]
  },
  {
   "cell_type": "code",
   "execution_count": 29,
   "metadata": {},
   "outputs": [
    {
     "name": "stdout",
     "output_type": "stream",
     "text": [
      "(5,)\n",
      "(5,)\n"
     ]
    }
   ],
   "source": [
    "\n",
    "patterns = np.arange(0, 2*math.pi, 0.1)\n",
    "targets_square = np.array([1 if(math.sin(x) >= 0) else -1 for x in patterns])\n",
    "\n",
    "test_patterns = np.arange(0.05, 2*math.pi, 0.1)\n",
    "test_targets = np.array([1 if(math.sin(x) >= 0) else -1 for x in test_patterns])\n",
    "\n",
    "rbf = RBF_network(1,1,5)\n",
    "out = rbf.train_delta_rule(patterns, targets_sin)\n",
    "\n",
    "mean_errors, errors_std = test_delta(patterns, targets_sin, test_patterns, test_targets)"
   ]
  },
  {
   "cell_type": "markdown",
   "metadata": {},
   "source": [
    "part 3.2 testing delta rule online learning with gaussian noise"
   ]
  },
  {
   "cell_type": "code",
   "execution_count": null,
   "metadata": {},
   "outputs": [],
   "source": [
    "def test_delta_online(trainData, trainTargets, testData, testTargets):\n",
    "    train_errors = []\n",
    "    test_errors = []\n",
    "    mean_errors = []\n",
    "    errors_std = []\n",
    "    \n",
    "    for i in range(1,50):\n",
    "        for j in range(50):\n",
    "            rbf = RBF_network(1,1,num_hidden_nodes = i)\n",
    "            train_out = rbf.train_delta_rule_online(trainData, trainTargets)\n",
    "            test_out = rbf.predict_delta_rule_online(testData)\n",
    "            test_errors += [absolute_error(testData, testTargets)]\n",
    "        mean_errors += [np.mean(test_errors)]\n",
    "        errors_std += [np.std(test_errors)]\n",
    "    return mean_errors, errors_std"
   ]
  },
  {
   "cell_type": "markdown",
   "metadata": {},
   "source": [
    "for sin function:"
   ]
  },
  {
   "cell_type": "code",
   "execution_count": null,
   "metadata": {},
   "outputs": [],
   "source": [
    "\n",
    "patterns = np.arange(0, 2*math.pi, 0.1)\n",
    "targets_sin = np.array([math.sin(x) for x in patterns])\n",
    "\n",
    "noise = np.random.normal(0, 0.1, (patterns.shape))\n",
    "patterns += noise \n",
    "\n",
    "test_patterns = np.arange(0.05, 2*math.pi, 0.1)\n",
    "test_noise = np.random.normal(0, 0.1, (test_patterns.shape))\n",
    "\n",
    "test_patterns += test_noise\n",
    "test_targets = np.array([math.sin(x) for x in test_patterns])\n",
    "\n",
    "mean_errors, errors_std = test_delta_online(patterns, targets_sin, test_patterns, test_targets)\n"
   ]
  },
  {
   "cell_type": "markdown",
   "metadata": {},
   "source": [
    "for square function:"
   ]
  },
  {
   "cell_type": "code",
   "execution_count": null,
   "metadata": {},
   "outputs": [],
   "source": [
    "patterns = np.arange(0, 2*math.pi, 0.1)\n",
    "targets_square = np.array([1 if(math.sin(x) >= 0) else -1 for x in patterns])\n",
    "\n",
    "noise = np.random.normal(0, 0.1, (patterns.shape))\n",
    "patterns += noise\n",
    "\n",
    "test_patterns = np.arange(0.05, 2*math.pi, 0.1)\n",
    "test_noise = np.random.normal(0, 0.1, (test_patterns.shape))\n",
    "\n",
    "test_patterns += test_noise\n",
    "test_targets = np.array([1 if(math.sin(x) >= 0) else -1 for x in test_patterns])\n",
    "\n",
    "mean_errors, errors_std = test_delta_online(patterns, targets_square, test_patterns, test_targets)"
   ]
  }
 ],
 "metadata": {
  "kernelspec": {
   "display_name": "Python 3",
   "language": "python",
   "name": "python3"
  },
  "language_info": {
   "codemirror_mode": {
    "name": "ipython",
    "version": 3
   },
   "file_extension": ".py",
   "mimetype": "text/x-python",
   "name": "python",
   "nbconvert_exporter": "python",
   "pygments_lexer": "ipython3",
   "version": "3.8.3"
  }
 },
 "nbformat": 4,
 "nbformat_minor": 4
}
